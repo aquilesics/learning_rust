{
 "cells": [
  {
   "cell_type": "code",
   "execution_count": 1,
   "metadata": {},
   "outputs": [],
   "source": [
    "import networkx as nx\n",
    "import numpy as np\n",
    "import pandas as pd\n",
    "import random\n",
    "import polars as pl\n",
    "import threading\n",
    "import concurrent.futures\n",
    "import datetime\n",
    "from multiprocessing import Pool"
   ]
  },
  {
   "cell_type": "code",
   "execution_count": 3,
   "metadata": {},
   "outputs": [
    {
     "data": {
      "text/html": [
       "<div><style>\n",
       ".dataframe > thead > tr,\n",
       ".dataframe > tbody > tr {\n",
       "  text-align: right;\n",
       "  white-space: pre-wrap;\n",
       "}\n",
       "</style>\n",
       "<small>shape: (0, 0)</small><table border=\"1\" class=\"dataframe\"><thead><tr></tr><tr></tr></thead><tbody></tbody></table></div>"
      ],
      "text/plain": [
       "shape: (0, 0)\n",
       "┌┐\n",
       "╞╡\n",
       "└┘"
      ]
     },
     "execution_count": 3,
     "metadata": {},
     "output_type": "execute_result"
    }
   ],
   "source": [
    "pl.DataFrame()"
   ]
  },
  {
   "cell_type": "code",
   "execution_count": 4,
   "metadata": {},
   "outputs": [],
   "source": [
    "def random_strg(size:int):\n",
    "    strg  = list()\n",
    "    for i in range(size):\n",
    "        n = np.random.randint(65,90)\n",
    "        w = chr(n)\n",
    "        strg.append(w)\n",
    "        \n",
    "    return ''.join(strg)"
   ]
  },
  {
   "cell_type": "code",
   "execution_count": 5,
   "metadata": {},
   "outputs": [],
   "source": [
    "def random_float(start,end): \n",
    "    return round( random.random() * random.randrange(start,end),2 )\n"
   ]
  },
  {
   "cell_type": "code",
   "execution_count": 6,
   "metadata": {},
   "outputs": [],
   "source": [
    "def str_dataframe(rows, cols): \n",
    "    data = dict()\n",
    "    for i in range(cols):\n",
    "        name = f'str_col{i}'\n",
    "        values = [random_strg(np.random.randint(1,30) ) for i in range(rows)]\n",
    "        data.update({name:values})\n",
    "\n",
    "    return pl.DataFrame(data)\n",
    "   "
   ]
  },
  {
   "cell_type": "code",
   "execution_count": 7,
   "metadata": {},
   "outputs": [],
   "source": [
    "def float_dataframe(rows, cols): \n",
    "    data = dict()\n",
    "    for i in range(cols):\n",
    "        name = f'float_col{i}'\n",
    "        values = [random_float(i,55_000) for i in range(rows)]\n",
    "        data.update({name:values})\n",
    "\n",
    "    return pl.DataFrame(data)"
   ]
  },
  {
   "cell_type": "code",
   "execution_count": 8,
   "metadata": {},
   "outputs": [],
   "source": [
    "def gen_fake_dataframe(rows, cols):\n",
    "    return pl.concat([str_dataframe(rows,cols),float_dataframe(rows,cols) ],how='horizontal')"
   ]
  },
  {
   "cell_type": "code",
   "execution_count": 9,
   "metadata": {},
   "outputs": [],
   "source": [
    "\n",
    "dfs = list()\n",
    "\n",
    "with Pool() as ex:\n",
    "    def task(n):\n",
    "        print('started...',n)\n",
    "        gen_fake_dataframe(100,15 ).write_avro(f'./test_{n}.avro')\n",
    "        print('done...',n)\n",
    "    \n",
    "    ex.map(task,range(10))\n",
    "        \n",
    "     \n"
   ]
  },
  {
   "cell_type": "code",
   "execution_count": 2,
   "metadata": {},
   "outputs": [
    {
     "data": {
      "text/html": [
       "<div><style>\n",
       ".dataframe > thead > tr,\n",
       ".dataframe > tbody > tr {\n",
       "  text-align: right;\n",
       "  white-space: pre-wrap;\n",
       "}\n",
       "</style>\n",
       "<small>shape: (5, 30)</small><table border=\"1\" class=\"dataframe\"><thead><tr><th>str_col0</th><th>str_col1</th><th>str_col2</th><th>str_col3</th><th>str_col4</th><th>str_col5</th><th>str_col6</th><th>str_col7</th><th>str_col8</th><th>str_col9</th><th>str_col10</th><th>str_col11</th><th>str_col12</th><th>str_col13</th><th>str_col14</th><th>float_col0</th><th>float_col1</th><th>float_col2</th><th>float_col3</th><th>float_col4</th><th>float_col5</th><th>float_col6</th><th>float_col7</th><th>float_col8</th><th>float_col9</th><th>float_col10</th><th>float_col11</th><th>float_col12</th><th>float_col13</th><th>float_col14</th></tr><tr><td>str</td><td>str</td><td>str</td><td>str</td><td>str</td><td>str</td><td>str</td><td>str</td><td>str</td><td>str</td><td>str</td><td>str</td><td>str</td><td>str</td><td>str</td><td>f64</td><td>f64</td><td>f64</td><td>f64</td><td>f64</td><td>f64</td><td>f64</td><td>f64</td><td>f64</td><td>f64</td><td>f64</td><td>f64</td><td>f64</td><td>f64</td><td>f64</td></tr></thead><tbody><tr><td>&quot;WDCLKKJLQWWVOR…</td><td>&quot;NVCNRLMGWTYFQT…</td><td>&quot;OI&quot;</td><td>&quot;DDDBNJDGUCP&quot;</td><td>&quot;GJRL&quot;</td><td>&quot;TRGDHRXJVPECXT…</td><td>&quot;DD&quot;</td><td>&quot;ENBNOSAPCH&quot;</td><td>&quot;GXJFRXQKNFVRPA…</td><td>&quot;TDVHDUXWKPMUOE…</td><td>&quot;JOFADSFNP&quot;</td><td>&quot;CW&quot;</td><td>&quot;RXLGVR&quot;</td><td>&quot;LXL&quot;</td><td>&quot;RCLSUGPWB&quot;</td><td>23390.41</td><td>3708.55</td><td>597.11</td><td>36502.74</td><td>27245.27</td><td>4312.89</td><td>11713.94</td><td>3011.59</td><td>13668.37</td><td>17704.23</td><td>1553.02</td><td>4341.56</td><td>3490.02</td><td>5352.3</td><td>922.73</td></tr><tr><td>&quot;XQA&quot;</td><td>&quot;WOMRSQLMCIYCOS…</td><td>&quot;QGVUKWNLQEHOJR…</td><td>&quot;XFISWABFXCLGDH…</td><td>&quot;SKYOR&quot;</td><td>&quot;D&quot;</td><td>&quot;RMAUAGYOMQFFTV…</td><td>&quot;JXQMXEEEBGPFDK…</td><td>&quot;WTRHBDRXBPDIHL…</td><td>&quot;UOQQILYK&quot;</td><td>&quot;HKWVJQACQ&quot;</td><td>&quot;DIPDPHJBXJQAAW…</td><td>&quot;ER&quot;</td><td>&quot;PAGYMILRD&quot;</td><td>&quot;DBTQYPRHOUSRDR…</td><td>647.34</td><td>21941.76</td><td>34342.07</td><td>17206.25</td><td>13792.66</td><td>4531.41</td><td>13272.66</td><td>10854.95</td><td>796.47</td><td>8448.22</td><td>1566.06</td><td>27286.46</td><td>21778.24</td><td>17368.55</td><td>25983.15</td></tr><tr><td>&quot;DURQTPFYKDR&quot;</td><td>&quot;EMOPTDIDC&quot;</td><td>&quot;DBIVWJKLC&quot;</td><td>&quot;KDHMYXWEGCLIGP…</td><td>&quot;FKOTQCPYNLQPCL…</td><td>&quot;BWKOMOHQJHOPFM…</td><td>&quot;JEOQJGVCKKYXIY…</td><td>&quot;RPWVSVOXVRMJEW…</td><td>&quot;XIL&quot;</td><td>&quot;N&quot;</td><td>&quot;XGGNGJHIAVSVBE…</td><td>&quot;QQNMXIEBORWBYJ…</td><td>&quot;XHG&quot;</td><td>&quot;OCXHOIFVFJGQTN…</td><td>&quot;PFCOARURT&quot;</td><td>3201.91</td><td>38474.01</td><td>392.39</td><td>4090.82</td><td>1698.82</td><td>12607.86</td><td>22519.89</td><td>10175.66</td><td>44955.27</td><td>23996.83</td><td>4112.03</td><td>996.02</td><td>12112.82</td><td>11076.48</td><td>22251.66</td></tr><tr><td>&quot;LQWGIEXHXWLULE…</td><td>&quot;DLMCIGGRKYCJVR…</td><td>&quot;BGQPYXH&quot;</td><td>&quot;WEXDBREWICALQM…</td><td>&quot;PBGHLLPLULQLJU…</td><td>&quot;Y&quot;</td><td>&quot;HPJFHDVJRXYLTR…</td><td>&quot;BNUIMNAMWFINXN…</td><td>&quot;AXOLTGTJY&quot;</td><td>&quot;MUXFGFPFBQQX&quot;</td><td>&quot;IOQGWFHVDMGCSQ…</td><td>&quot;FFADDHSCTCLPUE…</td><td>&quot;GBFMANVLSABYGP…</td><td>&quot;LFY&quot;</td><td>&quot;DSBKUYUO&quot;</td><td>26066.55</td><td>8329.22</td><td>22457.48</td><td>636.62</td><td>37865.6</td><td>12687.68</td><td>8033.36</td><td>15727.93</td><td>221.59</td><td>4078.91</td><td>21953.39</td><td>1182.79</td><td>13780.71</td><td>37509.42</td><td>9130.22</td></tr><tr><td>&quot;WDYYUGGHQUNXVY…</td><td>&quot;MTUY&quot;</td><td>&quot;FQAIMURJOEQXKC…</td><td>&quot;FWIYIYFNGMLWUY…</td><td>&quot;RLKIVMEGORPYBJ…</td><td>&quot;LYRGNMKMOJDUXE…</td><td>&quot;CQPWSJPFRL&quot;</td><td>&quot;LHQ&quot;</td><td>&quot;YVAFWRVLFSORCL…</td><td>&quot;SMIDFGGRVGKQIM…</td><td>&quot;JRSNWSJOLXGKQX…</td><td>&quot;HEVSWNLFGLTTKO…</td><td>&quot;QEBHJFX&quot;</td><td>&quot;XASPYW&quot;</td><td>&quot;VHUNLISHJLXPBJ…</td><td>2976.03</td><td>4112.98</td><td>1222.76</td><td>20888.54</td><td>19158.35</td><td>15914.92</td><td>14347.21</td><td>12778.6</td><td>13790.07</td><td>14663.85</td><td>26673.01</td><td>9281.36</td><td>39598.01</td><td>9634.9</td><td>16406.95</td></tr></tbody></table></div>"
      ],
      "text/plain": [
       "shape: (5, 30)\n",
       "┌───────────┬───────────┬───────────┬───────────┬───┬───────────┬───────────┬───────────┬──────────┐\n",
       "│ str_col0  ┆ str_col1  ┆ str_col2  ┆ str_col3  ┆ … ┆ float_col ┆ float_col ┆ float_col ┆ float_co │\n",
       "│ ---       ┆ ---       ┆ ---       ┆ ---       ┆   ┆ 11        ┆ 12        ┆ 13        ┆ l14      │\n",
       "│ str       ┆ str       ┆ str       ┆ str       ┆   ┆ ---       ┆ ---       ┆ ---       ┆ ---      │\n",
       "│           ┆           ┆           ┆           ┆   ┆ f64       ┆ f64       ┆ f64       ┆ f64      │\n",
       "╞═══════════╪═══════════╪═══════════╪═══════════╪═══╪═══════════╪═══════════╪═══════════╪══════════╡\n",
       "│ WDCLKKJLQ ┆ NVCNRLMGW ┆ OI        ┆ DDDBNJDGU ┆ … ┆ 4341.56   ┆ 3490.02   ┆ 5352.3    ┆ 922.73   │\n",
       "│ WWVORTIRQ ┆ TYFQTVMWU ┆           ┆ CP        ┆   ┆           ┆           ┆           ┆          │\n",
       "│ LWMGJ     ┆ PO        ┆           ┆           ┆   ┆           ┆           ┆           ┆          │\n",
       "│ XQA       ┆ WOMRSQLMC ┆ QGVUKWNLQ ┆ XFISWABFX ┆ … ┆ 27286.46  ┆ 21778.24  ┆ 17368.55  ┆ 25983.15 │\n",
       "│           ┆ IYCOSUVIT ┆ EHOJRLECK ┆ CLGDHUUYV ┆   ┆           ┆           ┆           ┆          │\n",
       "│           ┆ JU        ┆ NQXMFLMK  ┆ HSTMLKXO  ┆   ┆           ┆           ┆           ┆          │\n",
       "│ DURQTPFYK ┆ EMOPTDIDC ┆ DBIVWJKLC ┆ KDHMYXWEG ┆ … ┆ 996.02    ┆ 12112.82  ┆ 11076.48  ┆ 22251.66 │\n",
       "│ DR        ┆           ┆           ┆ CLIGPISEV ┆   ┆           ┆           ┆           ┆          │\n",
       "│           ┆           ┆           ┆ C         ┆   ┆           ┆           ┆           ┆          │\n",
       "│ LQWGIEXHX ┆ DLMCIGGRK ┆ BGQPYXH   ┆ WEXDBREWI ┆ … ┆ 1182.79   ┆ 13780.71  ┆ 37509.42  ┆ 9130.22  │\n",
       "│ WLULEPCVG ┆ YCJVRVJYF ┆           ┆ CALQMTNBO ┆   ┆           ┆           ┆           ┆          │\n",
       "│ EEYLS     ┆ UO        ┆           ┆ BGLIOTUOR ┆   ┆           ┆           ┆           ┆          │\n",
       "│           ┆           ┆           ┆ US        ┆   ┆           ┆           ┆           ┆          │\n",
       "│ WDYYUGGHQ ┆ MTUY      ┆ FQAIMURJO ┆ FWIYIYFNG ┆ … ┆ 9281.36   ┆ 39598.01  ┆ 9634.9    ┆ 16406.95 │\n",
       "│ UNXVYNJIG ┆           ┆ EQXKCSVC  ┆ MLWUYWCMD ┆   ┆           ┆           ┆           ┆          │\n",
       "│ BEFMN     ┆           ┆           ┆ PPH       ┆   ┆           ┆           ┆           ┆          │\n",
       "└───────────┴───────────┴───────────┴───────────┴───┴───────────┴───────────┴───────────┴──────────┘"
      ]
     },
     "execution_count": 2,
     "metadata": {},
     "output_type": "execute_result"
    }
   ],
   "source": [
    "pl.read_avro(\"C:\\\\Users\\\\xj\\\\repo\\\\learning_rust\\\\data_avro\\\\test_0.avro\").head()"
   ]
  }
 ],
 "metadata": {
  "kernelspec": {
   "display_name": "learning_rust-AwULocur",
   "language": "python",
   "name": "python3"
  },
  "language_info": {
   "codemirror_mode": {
    "name": "ipython",
    "version": 3
   },
   "file_extension": ".py",
   "mimetype": "text/x-python",
   "name": "python",
   "nbconvert_exporter": "python",
   "pygments_lexer": "ipython3",
   "version": "3.12.3"
  }
 },
 "nbformat": 4,
 "nbformat_minor": 2
}
