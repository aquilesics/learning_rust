{
 "cells": [
  {
   "cell_type": "code",
   "execution_count": 1,
   "metadata": {},
   "outputs": [],
   "source": [
    "import networkx as nx\n",
    "import numpy as np\n",
    "import pandas as pd\n",
    "import random\n",
    "import polars as pl\n",
    "import threading\n",
    "import concurrent.futures\n",
    "import datetime\n",
    "from multiprocessing import Pool"
   ]
  },
  {
   "cell_type": "code",
   "execution_count": 2,
   "metadata": {},
   "outputs": [
    {
     "data": {
      "text/html": [
       "<div><style>\n",
       ".dataframe > thead > tr,\n",
       ".dataframe > tbody > tr {\n",
       "  text-align: right;\n",
       "  white-space: pre-wrap;\n",
       "}\n",
       "</style>\n",
       "<small>shape: (0, 0)</small><table border=\"1\" class=\"dataframe\"><thead><tr></tr><tr></tr></thead><tbody></tbody></table></div>"
      ],
      "text/plain": [
       "shape: (0, 0)\n",
       "┌┐\n",
       "╞╡\n",
       "└┘"
      ]
     },
     "execution_count": 2,
     "metadata": {},
     "output_type": "execute_result"
    }
   ],
   "source": [
    "pl.DataFrame()"
   ]
  },
  {
   "cell_type": "code",
   "execution_count": 3,
   "metadata": {},
   "outputs": [],
   "source": [
    "def random_strg(size:int):\n",
    "    strg  = list()\n",
    "    for i in range(size):\n",
    "        n = np.random.randint(65,90)\n",
    "        w = chr(n)\n",
    "        strg.append(w)\n",
    "        \n",
    "    return ''.join(strg)"
   ]
  },
  {
   "cell_type": "code",
   "execution_count": 4,
   "metadata": {},
   "outputs": [],
   "source": [
    "def random_float(start,end): \n",
    "    return round( random.random() * random.randrange(start,end),2 )\n"
   ]
  },
  {
   "cell_type": "code",
   "execution_count": 5,
   "metadata": {},
   "outputs": [],
   "source": [
    "def str_dataframe(rows, cols): \n",
    "    data = dict()\n",
    "    for i in range(cols):\n",
    "        name = f'str_col{i}'\n",
    "        values = [random_strg(np.random.randint(1,30) ) for i in range(rows)]\n",
    "        data.update({name:values})\n",
    "\n",
    "    return pl.DataFrame(data)\n",
    "   "
   ]
  },
  {
   "cell_type": "code",
   "execution_count": 6,
   "metadata": {},
   "outputs": [],
   "source": [
    "def float_dataframe(rows, cols): \n",
    "    data = dict()\n",
    "    for i in range(cols):\n",
    "        name = f'float_col{i}'\n",
    "        values = [random_float(i,55_000) for i in range(rows)]\n",
    "        data.update({name:values})\n",
    "\n",
    "    return pl.DataFrame(data)"
   ]
  },
  {
   "cell_type": "code",
   "execution_count": 7,
   "metadata": {},
   "outputs": [],
   "source": [
    "def gen_fake_dataframe(rows, cols):\n",
    "    return pl.concat([str_dataframe(rows,cols),float_dataframe(rows,cols) ],how='horizontal')"
   ]
  },
  {
   "cell_type": "code",
   "execution_count": 8,
   "metadata": {},
   "outputs": [],
   "source": [
    "\n",
    "dfs = list()\n",
    "\n",
    "with Pool() as ex:\n",
    "    def task(n):\n",
    "        print('started...',n)\n",
    "        gen_fake_dataframe(100,15 ).write_avro(f'./test_{n}.avro')\n",
    "        print('done...',n)\n",
    "    \n",
    "    ex.map(task,range(10))\n",
    "        \n",
    "     \n"
   ]
  },
  {
   "cell_type": "code",
   "execution_count": 13,
   "metadata": {},
   "outputs": [
    {
     "name": "stderr",
     "output_type": "stream",
     "text": [
      "C:\\Users\\xj\\AppData\\Local\\Temp\\ipykernel_4024\\2010144730.py:4: DeprecationWarning: `pl.count()` is deprecated. Please use `pl.len()` instead.\n",
      "  .agg(pl.count())\\\n"
     ]
    },
    {
     "data": {
      "text/html": [
       "<div><style>\n",
       ".dataframe > thead > tr,\n",
       ".dataframe > tbody > tr {\n",
       "  text-align: right;\n",
       "  white-space: pre-wrap;\n",
       "}\n",
       "</style>\n",
       "<small>shape: (9_633, 2)</small><table border=\"1\" class=\"dataframe\"><thead><tr><th>str_col2</th><th>count</th></tr><tr><td>str</td><td>u32</td></tr></thead><tbody><tr><td>&quot;I&quot;</td><td>16</td></tr><tr><td>&quot;T&quot;</td><td>16</td></tr><tr><td>&quot;H&quot;</td><td>16</td></tr><tr><td>&quot;M&quot;</td><td>16</td></tr><tr><td>&quot;W&quot;</td><td>15</td></tr><tr><td>&quot;K&quot;</td><td>15</td></tr><tr><td>&quot;P&quot;</td><td>15</td></tr><tr><td>&quot;B&quot;</td><td>15</td></tr><tr><td>&quot;U&quot;</td><td>14</td></tr><tr><td>&quot;Y&quot;</td><td>13</td></tr><tr><td>&quot;L&quot;</td><td>13</td></tr><tr><td>&quot;E&quot;</td><td>13</td></tr><tr><td>&quot;R&quot;</td><td>13</td></tr><tr><td>&quot;O&quot;</td><td>13</td></tr><tr><td>&quot;D&quot;</td><td>12</td></tr><tr><td>&quot;X&quot;</td><td>11</td></tr><tr><td>&quot;J&quot;</td><td>11</td></tr><tr><td>&quot;Q&quot;</td><td>11</td></tr><tr><td>&quot;V&quot;</td><td>11</td></tr><tr><td>&quot;F&quot;</td><td>11</td></tr><tr><td>&quot;C&quot;</td><td>10</td></tr><tr><td>&quot;A&quot;</td><td>10</td></tr><tr><td>&quot;S&quot;</td><td>8</td></tr><tr><td>&quot;N&quot;</td><td>8</td></tr><tr><td>&quot;PQ&quot;</td><td>5</td></tr><tr><td>&quot;AR&quot;</td><td>4</td></tr><tr><td>&quot;HU&quot;</td><td>4</td></tr><tr><td>&quot;G&quot;</td><td>4</td></tr><tr><td>&quot;YI&quot;</td><td>3</td></tr><tr><td>&quot;HN&quot;</td><td>3</td></tr><tr><td>&quot;QG&quot;</td><td>3</td></tr><tr><td>&quot;EW&quot;</td><td>3</td></tr><tr><td>&quot;MU&quot;</td><td>3</td></tr><tr><td>&quot;FT&quot;</td><td>3</td></tr><tr><td>&quot;FS&quot;</td><td>3</td></tr><tr><td>&quot;PV&quot;</td><td>3</td></tr><tr><td>&quot;VJ&quot;</td><td>3</td></tr><tr><td>&quot;YT&quot;</td><td>3</td></tr><tr><td>&quot;NI&quot;</td><td>2</td></tr><tr><td>&quot;KP&quot;</td><td>2</td></tr><tr><td>&quot;UE&quot;</td><td>2</td></tr><tr><td>&quot;YY&quot;</td><td>2</td></tr><tr><td>&quot;SP&quot;</td><td>2</td></tr><tr><td>&quot;BH&quot;</td><td>2</td></tr><tr><td>&quot;AK&quot;</td><td>2</td></tr><tr><td>&quot;GV&quot;</td><td>2</td></tr><tr><td>&quot;WD&quot;</td><td>2</td></tr><tr><td>&quot;DR&quot;</td><td>2</td></tr><tr><td>&quot;RS&quot;</td><td>2</td></tr><tr><td>&quot;FD&quot;</td><td>2</td></tr><tr><td>&hellip;</td><td>&hellip;</td></tr><tr><td>&quot;GSODDRTCEKTVHODKMBRUSQN&quot;</td><td>1</td></tr><tr><td>&quot;INCXSRNK&quot;</td><td>1</td></tr><tr><td>&quot;UQYBWPYKDITRMYPHFAUWOO&quot;</td><td>1</td></tr><tr><td>&quot;LGYUFFLJAUMDWGEFF&quot;</td><td>1</td></tr><tr><td>&quot;HL&quot;</td><td>1</td></tr><tr><td>&quot;JNMJNSHLBSUWAOHJAHKII&quot;</td><td>1</td></tr><tr><td>&quot;QLLSJNMISBWP&quot;</td><td>1</td></tr><tr><td>&quot;YXLHONEXKDD&quot;</td><td>1</td></tr><tr><td>&quot;UNHHBCQQHUTDTUFNIFAMIBLYWY&quot;</td><td>1</td></tr><tr><td>&quot;NGGEALESSYKFKUP&quot;</td><td>1</td></tr><tr><td>&quot;AXADGOQADS&quot;</td><td>1</td></tr><tr><td>&quot;XCCBMREMSUQGXVNRLQKJY&quot;</td><td>1</td></tr><tr><td>&quot;XMPHVBYOAAVBJJ&quot;</td><td>1</td></tr><tr><td>&quot;MSYWLPFXEGMIEGGOBN&quot;</td><td>1</td></tr><tr><td>&quot;CXCWEESYOSVQLAW&quot;</td><td>1</td></tr><tr><td>&quot;NBAXHFFRNMFXDYWEWESHHX&quot;</td><td>1</td></tr><tr><td>&quot;LVFAQOQIVHPG&quot;</td><td>1</td></tr><tr><td>&quot;KDBCQUOMNBLPIJGVEKFTVDE&quot;</td><td>1</td></tr><tr><td>&quot;OLN&quot;</td><td>1</td></tr><tr><td>&quot;CYHG&quot;</td><td>1</td></tr><tr><td>&quot;EUPYWQEWHI&quot;</td><td>1</td></tr><tr><td>&quot;RHTBPWIHWORULUWQ&quot;</td><td>1</td></tr><tr><td>&quot;EVVQWKDFFMAFLYWNIP&quot;</td><td>1</td></tr><tr><td>&quot;JPEPFDGLPBG&quot;</td><td>1</td></tr><tr><td>&quot;TEIN&quot;</td><td>1</td></tr><tr><td>&quot;XYIIHGKIBQI&quot;</td><td>1</td></tr><tr><td>&quot;DVSSADPETGINQKSQQIXCAK&quot;</td><td>1</td></tr><tr><td>&quot;TDDPNGPFHFKXU&quot;</td><td>1</td></tr><tr><td>&quot;FGISSFNMJNFWSNKJQRWYFEBETVDF&quot;</td><td>1</td></tr><tr><td>&quot;GHJGTXEWTD&quot;</td><td>1</td></tr><tr><td>&quot;SNVRRNPXAMNHJFFAI&quot;</td><td>1</td></tr><tr><td>&quot;FHCYOHOQGH&quot;</td><td>1</td></tr><tr><td>&quot;NHAOHTBAHENCMXYKVRJNHXFRFHF&quot;</td><td>1</td></tr><tr><td>&quot;ISTQHSNIQDDLXIUMNEOSCEF&quot;</td><td>1</td></tr><tr><td>&quot;IFRWCFPERKWUQEIPT&quot;</td><td>1</td></tr><tr><td>&quot;PDYEFTQEKAAPHKD&quot;</td><td>1</td></tr><tr><td>&quot;ENXRWVABDSJDNTCIAJHOGBLN&quot;</td><td>1</td></tr><tr><td>&quot;ORORAVRVTPFDEJVRTRSFXCAMNGSFE&quot;</td><td>1</td></tr><tr><td>&quot;MEERFOYOPWBYN&quot;</td><td>1</td></tr><tr><td>&quot;LYRLERBNTDIIHUFAOPGV&quot;</td><td>1</td></tr><tr><td>&quot;MYXPNAXJKKYEELKXEXYYTJ&quot;</td><td>1</td></tr><tr><td>&quot;VAWEPJBNPGHJLDUBDHQRBYMK&quot;</td><td>1</td></tr><tr><td>&quot;HLVFLKCLU&quot;</td><td>1</td></tr><tr><td>&quot;KPIDYXJDBQMOCQNEMK&quot;</td><td>1</td></tr><tr><td>&quot;BOHECTGEY&quot;</td><td>1</td></tr><tr><td>&quot;TBR&quot;</td><td>1</td></tr><tr><td>&quot;KGFAHHMJAK&quot;</td><td>1</td></tr><tr><td>&quot;ONBLB&quot;</td><td>1</td></tr><tr><td>&quot;IRXBXVFQNPAI&quot;</td><td>1</td></tr><tr><td>&quot;FOQRMBQJTXNQ&quot;</td><td>1</td></tr></tbody></table></div>"
      ],
      "text/plain": [
       "shape: (9_633, 2)\n",
       "┌───────────────────────────────┬───────┐\n",
       "│ str_col2                      ┆ count │\n",
       "│ ---                           ┆ ---   │\n",
       "│ str                           ┆ u32   │\n",
       "╞═══════════════════════════════╪═══════╡\n",
       "│ I                             ┆ 16    │\n",
       "│ T                             ┆ 16    │\n",
       "│ H                             ┆ 16    │\n",
       "│ M                             ┆ 16    │\n",
       "│ W                             ┆ 15    │\n",
       "│ K                             ┆ 15    │\n",
       "│ P                             ┆ 15    │\n",
       "│ B                             ┆ 15    │\n",
       "│ U                             ┆ 14    │\n",
       "│ Y                             ┆ 13    │\n",
       "│ L                             ┆ 13    │\n",
       "│ E                             ┆ 13    │\n",
       "│ R                             ┆ 13    │\n",
       "│ O                             ┆ 13    │\n",
       "│ D                             ┆ 12    │\n",
       "│ X                             ┆ 11    │\n",
       "│ J                             ┆ 11    │\n",
       "│ Q                             ┆ 11    │\n",
       "│ V                             ┆ 11    │\n",
       "│ F                             ┆ 11    │\n",
       "│ C                             ┆ 10    │\n",
       "│ A                             ┆ 10    │\n",
       "│ S                             ┆ 8     │\n",
       "│ N                             ┆ 8     │\n",
       "│ PQ                            ┆ 5     │\n",
       "│ AR                            ┆ 4     │\n",
       "│ HU                            ┆ 4     │\n",
       "│ G                             ┆ 4     │\n",
       "│ YI                            ┆ 3     │\n",
       "│ HN                            ┆ 3     │\n",
       "│ QG                            ┆ 3     │\n",
       "│ EW                            ┆ 3     │\n",
       "│ MU                            ┆ 3     │\n",
       "│ FT                            ┆ 3     │\n",
       "│ FS                            ┆ 3     │\n",
       "│ PV                            ┆ 3     │\n",
       "│ VJ                            ┆ 3     │\n",
       "│ YT                            ┆ 3     │\n",
       "│ NI                            ┆ 2     │\n",
       "│ KP                            ┆ 2     │\n",
       "│ UE                            ┆ 2     │\n",
       "│ YY                            ┆ 2     │\n",
       "│ SP                            ┆ 2     │\n",
       "│ BH                            ┆ 2     │\n",
       "│ AK                            ┆ 2     │\n",
       "│ GV                            ┆ 2     │\n",
       "│ WD                            ┆ 2     │\n",
       "│ DR                            ┆ 2     │\n",
       "│ RS                            ┆ 2     │\n",
       "│ FD                            ┆ 2     │\n",
       "│ …                             ┆ …     │\n",
       "│ GSODDRTCEKTVHODKMBRUSQN       ┆ 1     │\n",
       "│ INCXSRNK                      ┆ 1     │\n",
       "│ UQYBWPYKDITRMYPHFAUWOO        ┆ 1     │\n",
       "│ LGYUFFLJAUMDWGEFF             ┆ 1     │\n",
       "│ HL                            ┆ 1     │\n",
       "│ JNMJNSHLBSUWAOHJAHKII         ┆ 1     │\n",
       "│ QLLSJNMISBWP                  ┆ 1     │\n",
       "│ YXLHONEXKDD                   ┆ 1     │\n",
       "│ UNHHBCQQHUTDTUFNIFAMIBLYWY    ┆ 1     │\n",
       "│ NGGEALESSYKFKUP               ┆ 1     │\n",
       "│ AXADGOQADS                    ┆ 1     │\n",
       "│ XCCBMREMSUQGXVNRLQKJY         ┆ 1     │\n",
       "│ XMPHVBYOAAVBJJ                ┆ 1     │\n",
       "│ MSYWLPFXEGMIEGGOBN            ┆ 1     │\n",
       "│ CXCWEESYOSVQLAW               ┆ 1     │\n",
       "│ NBAXHFFRNMFXDYWEWESHHX        ┆ 1     │\n",
       "│ LVFAQOQIVHPG                  ┆ 1     │\n",
       "│ KDBCQUOMNBLPIJGVEKFTVDE       ┆ 1     │\n",
       "│ OLN                           ┆ 1     │\n",
       "│ CYHG                          ┆ 1     │\n",
       "│ EUPYWQEWHI                    ┆ 1     │\n",
       "│ RHTBPWIHWORULUWQ              ┆ 1     │\n",
       "│ EVVQWKDFFMAFLYWNIP            ┆ 1     │\n",
       "│ JPEPFDGLPBG                   ┆ 1     │\n",
       "│ TEIN                          ┆ 1     │\n",
       "│ XYIIHGKIBQI                   ┆ 1     │\n",
       "│ DVSSADPETGINQKSQQIXCAK        ┆ 1     │\n",
       "│ TDDPNGPFHFKXU                 ┆ 1     │\n",
       "│ FGISSFNMJNFWSNKJQRWYFEBETVDF  ┆ 1     │\n",
       "│ GHJGTXEWTD                    ┆ 1     │\n",
       "│ SNVRRNPXAMNHJFFAI             ┆ 1     │\n",
       "│ FHCYOHOQGH                    ┆ 1     │\n",
       "│ NHAOHTBAHENCMXYKVRJNHXFRFHF   ┆ 1     │\n",
       "│ ISTQHSNIQDDLXIUMNEOSCEF       ┆ 1     │\n",
       "│ IFRWCFPERKWUQEIPT             ┆ 1     │\n",
       "│ PDYEFTQEKAAPHKD               ┆ 1     │\n",
       "│ ENXRWVABDSJDNTCIAJHOGBLN      ┆ 1     │\n",
       "│ ORORAVRVTPFDEJVRTRSFXCAMNGSFE ┆ 1     │\n",
       "│ MEERFOYOPWBYN                 ┆ 1     │\n",
       "│ LYRLERBNTDIIHUFAOPGV          ┆ 1     │\n",
       "│ MYXPNAXJKKYEELKXEXYYTJ        ┆ 1     │\n",
       "│ VAWEPJBNPGHJLDUBDHQRBYMK      ┆ 1     │\n",
       "│ HLVFLKCLU                     ┆ 1     │\n",
       "│ KPIDYXJDBQMOCQNEMK            ┆ 1     │\n",
       "│ BOHECTGEY                     ┆ 1     │\n",
       "│ TBR                           ┆ 1     │\n",
       "│ KGFAHHMJAK                    ┆ 1     │\n",
       "│ ONBLB                         ┆ 1     │\n",
       "│ IRXBXVFQNPAI                  ┆ 1     │\n",
       "│ FOQRMBQJTXNQ                  ┆ 1     │\n",
       "└───────────────────────────────┴───────┘"
      ]
     },
     "execution_count": 13,
     "metadata": {},
     "output_type": "execute_result"
    }
   ],
   "source": [
    "pl.Config.set_tbl_rows(100)\n",
    "pl.read_avro(\"C:\\\\Users\\\\xj\\\\repo\\\\learning_rust\\\\data_avro\\\\test_0.avro\")\\\n",
    "    .group_by(\"str_col2\")\\\n",
    "    .agg(pl.count())\\\n",
    "    .sort(pl.col('count'),descending=True)"
   ]
  }
 ],
 "metadata": {
  "kernelspec": {
   "display_name": "learning_rust-AwULocur",
   "language": "python",
   "name": "python3"
  },
  "language_info": {
   "codemirror_mode": {
    "name": "ipython",
    "version": 3
   },
   "file_extension": ".py",
   "mimetype": "text/x-python",
   "name": "python",
   "nbconvert_exporter": "python",
   "pygments_lexer": "ipython3",
   "version": "3.12.3"
  }
 },
 "nbformat": 4,
 "nbformat_minor": 2
}
